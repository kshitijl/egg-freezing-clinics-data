{
 "cells": [
  {
   "cell_type": "code",
   "execution_count": 1,
   "id": "313884ed-a625-402f-8da8-b0b384efcb8c",
   "metadata": {},
   "outputs": [],
   "source": [
    "import re"
   ]
  },
  {
   "cell_type": "code",
   "execution_count": null,
   "id": "50824a9d-354b-457a-94c9-1bf95270f3e4",
   "metadata": {},
   "outputs": [],
   "source": []
  },
  {
   "cell_type": "code",
   "execution_count": 3,
   "id": "6f1d8735-67a8-4041-b72d-36a0f0040498",
   "metadata": {},
   "outputs": [],
   "source": [
    "filename = \"clinic_75_SuccessRateOwnEggs.json\""
   ]
  },
  {
   "cell_type": "code",
   "execution_count": 6,
   "id": "06e43087-1309-4791-a0b0-6e563ee0004f",
   "metadata": {},
   "outputs": [
    {
     "name": "stdout",
     "output_type": "stream",
     "text": [
      "SuccessRateOwnEggs\n"
     ]
    }
   ],
   "source": [
    "file_type = re.search(r\"_([^_]+)\\.json$\", filename).group(1)\n",
    "print(file_type)"
   ]
  },
  {
   "cell_type": "code",
   "execution_count": null,
   "id": "0874bf3f-7a2e-4419-98d5-0997c788a7aa",
   "metadata": {},
   "outputs": [],
   "source": []
  }
 ],
 "metadata": {
  "kernelspec": {
   "display_name": "Python 3 (ipykernel)",
   "language": "python",
   "name": "python3"
  },
  "language_info": {
   "codemirror_mode": {
    "name": "ipython",
    "version": 3
   },
   "file_extension": ".py",
   "mimetype": "text/x-python",
   "name": "python",
   "nbconvert_exporter": "python",
   "pygments_lexer": "ipython3",
   "version": "3.9.21"
  }
 },
 "nbformat": 4,
 "nbformat_minor": 5
}
